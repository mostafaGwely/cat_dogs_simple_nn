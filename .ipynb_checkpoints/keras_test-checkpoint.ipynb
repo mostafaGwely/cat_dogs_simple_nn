{
 "cells": [
  {
   "cell_type": "code",
   "execution_count": null,
   "metadata": {},
   "outputs": [],
   "source": [
    "# set the matplotlib backend so figures can be saved in the background\n",
    "# import matplotlib\n",
    "# matplotlib.use(\"Agg\")\n",
    " \n",
    "# import the necessary packages\n",
    "from sklearn.preprocessing import LabelBinarizer\n",
    "from sklearn.model_selection import train_test_split\n",
    "from sklearn.metrics import classification_report\n",
    "from keras.models import Sequential\n",
    "from keras.layers.core import Dense\n",
    "from keras.optimizers import SGD\n",
    "from imutils import paths\n",
    "import matplotlib.pyplot as plt\n",
    "import numpy as np\n",
    "import argparse\n",
    "import random\n",
    "import pickle\n",
    "import cv2\n",
    "import os\n",
    "\n",
    "# ap = argparse.ArgumentParser()\n",
    "\n",
    "# ap.add_argument('-d','--dataset',required=True,help=\"path to input dataset of images\")\n",
    "# # ap.add_argument('-m','--model',required=True,help=\"path to the output trained model\")\n",
    "# # ap.add_argument('-l','--label-bin',required=True,help=\"path to output label binarize\")\n",
    "# # ap.add_argument('-p','--plot',required=True,help='path to the output accuracy/loss plot')\n",
    "\n",
    "# args = vars(ap.parse_args())\n",
    "\n",
    "args = {\"dataset\":\"animals\",\"model\":,\"label-bin\":,\"-P\":}\n",
    "\n",
    "imagePaths = paths.list_images(args[\"dataset\"])\n",
    "\n",
    "data = [] \n",
    "label = [] \n",
    "\n",
    "for imagePath in imagePaths:\n",
    "\t\n",
    "\n",
    "\n"
   ]
  }
 ],
 "metadata": {
  "kernelspec": {
   "display_name": "Python 3",
   "language": "python",
   "name": "python3"
  },
  "language_info": {
   "codemirror_mode": {
    "name": "ipython",
    "version": 3
   },
   "file_extension": ".py",
   "mimetype": "text/x-python",
   "name": "python",
   "nbconvert_exporter": "python",
   "pygments_lexer": "ipython3",
   "version": "3.6.7"
  }
 },
 "nbformat": 4,
 "nbformat_minor": 2
}
